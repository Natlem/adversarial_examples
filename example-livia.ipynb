{
 "cells": [
  {
   "cell_type": "markdown",
   "metadata": {},
   "source": [
    "# Adversarial examples with projected gradient descent and box-contrained L-BFGS\n",
    "\n",
    "This notebook shows an example of how to use the provided code to attack an object classification model."
   ]
  },
  {
   "cell_type": "markdown",
   "metadata": {},
   "source": [
    "## Setup"
   ]
  },
  {
   "cell_type": "code",
   "execution_count": null,
   "metadata": {
    "collapsed": false
   },
   "outputs": [],
   "source": [
    "import os\n",
    "import numpy as np\n",
    "import pandas as pd\n",
    "\n",
    "import tensorflow as tf\n",
    "import matplotlib.pyplot as plt\n",
    "\n",
    "%matplotlib inline\n",
    "\n",
    "%load_ext autoreload\n",
    "%autoreload 2"
   ]
  },
  {
   "cell_type": "code",
   "execution_count": null,
   "metadata": {
    "collapsed": true
   },
   "outputs": [],
   "source": [
    "batch_shape = [None, 299, 299, 3]"
   ]
  },
  {
   "cell_type": "code",
   "execution_count": null,
   "metadata": {
    "collapsed": true
   },
   "outputs": [],
   "source": [
    "# Code to instantiate an inception model; pre-process images and revert the pre-processing (e.g. for visualization)\n",
    "\n",
    "from tensorflow.contrib.slim.nets import inception\n",
    "slim = tf.contrib.slim\n",
    "\n",
    "class InceptionModel:  \n",
    "    def __init__(self, end_point='Logits'):\n",
    "        self.initialized = False\n",
    "        self.end_point = end_point\n",
    "        self.num_classes=1001\n",
    "        \n",
    "    def __call__(self, x_input):\n",
    "        if self.initialized:\n",
    "            reuse = True\n",
    "        else:\n",
    "            reuse = False\n",
    "            self.initialized = True\n",
    "            \n",
    "        with slim.arg_scope(inception.inception_v3_arg_scope()):\n",
    "              _, end_points = inception.inception_v3(\n",
    "                  x_input, num_classes=self.num_classes, is_training=False, reuse=reuse)\n",
    "        \n",
    "        return end_points[self.end_point]\n",
    "    \n",
    "def preprocess_image(img):\n",
    "    return img / 127.5 - 1\n",
    "\n",
    "def revert_processed_image(img):\n",
    "    return ((img + 1) * 127.5 ).astype(np.uint8)"
   ]
  },
  {
   "cell_type": "code",
   "execution_count": null,
   "metadata": {
    "collapsed": true
   },
   "outputs": [],
   "source": [
    "# Instantiate the model\n",
    "\n",
    "tf.reset_default_graph()\n",
    "x_input = tf.placeholder(tf.float32, shape=batch_shape)\n",
    "y_input = tf.placeholder(tf.int32, shape=(batch_shape[0]))\n",
    "\n",
    "model = InceptionModel()\n",
    "logits = model(x_input)\n",
    "probs = tf.nn.softmax(logits)\n",
    "prediction = tf.argmax(logits, axis=1)"
   ]
  },
  {
   "cell_type": "code",
   "execution_count": null,
   "metadata": {
    "collapsed": true
   },
   "outputs": [],
   "source": [
    "# Download the weights (if not yet done)\n",
    "model_path = 'inception_v3.ckpt'\n",
    "\n",
    "if not os.path.exists(model_path):\n",
    "    import urllib\n",
    "    import tarfile \n",
    "    compressed_path = 'inception_v3_2016_08_28.tar.gz'\n",
    "    \n",
    "    print('Downloading model')\n",
    "    \n",
    "    urllib.urlretrieve('http://download.tensorflow.org/models/inception_v3_2016_08_28.tar.gz', compressed_path)\n",
    "       \n",
    "    with tarfile.open(zip_path, 'r') as compressed_model:\n",
    "        compressed_model.extractall()\n",
    "    os.unlink(compressed_path)\n",
    "    print('Done')"
   ]
  },
  {
   "cell_type": "code",
   "execution_count": null,
   "metadata": {
    "collapsed": false
   },
   "outputs": [],
   "source": [
    "# Load the pre-trained weights\n",
    "\n",
    "saver = tf.train.Saver(slim.get_model_variables())\n",
    "sess = tf.InteractiveSession()\n",
    "saver.restore(sess, model_path)"
   ]
  },
  {
   "cell_type": "code",
   "execution_count": null,
   "metadata": {
    "collapsed": true
   },
   "outputs": [],
   "source": [
    "# Load some sample images\n",
    "\n",
    "from scipy.misc import imread, imsave\n",
    "\n",
    "img_names = ['images/panda.png', 'images/flag.png']\n",
    "labels = np.array([389, 558])\n",
    "\n",
    "imgs = [preprocess_image(imread(f)) for f in img_names]\n",
    "imgs = np.stack(imgs)\n",
    "pred, original_probabilities = sess.run([prediction, probs], feed_dict={x_input: imgs})\n",
    "\n",
    "assert np.all(labels == pred)\n",
    "\n",
    "with open('imagenet_labels.txt') as f:\n",
    "    class_names = [line.strip() for line in f.readlines()]\n",
    "class_names = np.array(class_names)"
   ]
  },
  {
   "cell_type": "code",
   "execution_count": null,
   "metadata": {
    "collapsed": false
   },
   "outputs": [],
   "source": [
    "# Let's take a look on the original images\n",
    "\n",
    "f, ax = plt.subplots(2, 1, figsize=(10,10))\n",
    "for i, img in enumerate(imgs):\n",
    "    ax[i].imshow(revert_processed_image(img))\n",
    "    true_class = labels[i]\n",
    "    ax[i].set_title('True label: %s (%.2f%%)' % (class_names[true_class], original_probabilities[i, true_class] * 100))\n",
    "f.tight_layout()"
   ]
  },
  {
   "cell_type": "markdown",
   "metadata": {},
   "source": [
    "## Calculating the loss:\n",
    "\n",
    "$J = - \\log{P(Y=y_\\text{true} | X)}$"
   ]
  },
  {
   "cell_type": "code",
   "execution_count": null,
   "metadata": {
    "collapsed": true
   },
   "outputs": [],
   "source": [
    "#Calculating the loss:\n",
    "\n",
    "loss = tf.losses.sparse_softmax_cross_entropy(logits=logits, labels=y_input)"
   ]
  },
  {
   "cell_type": "code",
   "execution_count": null,
   "metadata": {
    "collapsed": false
   },
   "outputs": [],
   "source": [
    "l, p = sess.run([loss, probs], feed_dict={x_input: imgs, y_input:labels})\n",
    "\n",
    "print('Loss: %.4f' % l)\n",
    "print('Probability of correct class: %.4f, %.4f' % (p[0][labels[0]], p[1][labels[1]]))"
   ]
  },
  {
   "cell_type": "markdown",
   "metadata": {},
   "source": [
    "## Calculating the gradient $\\nabla_X{J}$"
   ]
  },
  {
   "cell_type": "code",
   "execution_count": null,
   "metadata": {
    "collapsed": false
   },
   "outputs": [],
   "source": [
    "grad = tf.gradients(loss, x_input)[0]"
   ]
  },
  {
   "cell_type": "code",
   "execution_count": null,
   "metadata": {
    "collapsed": false
   },
   "outputs": [],
   "source": [
    "image_gradient = sess.run(grad, feed_dict={x_input: imgs, y_input: labels})\n",
    "image_gradient.shape"
   ]
  },
  {
   "cell_type": "markdown",
   "metadata": {},
   "source": [
    "## Starting to modify the image: $\\tilde{X} = X + \\alpha \\nabla_X{J}$"
   ]
  },
  {
   "cell_type": "code",
   "execution_count": null,
   "metadata": {
    "collapsed": true
   },
   "outputs": [],
   "source": [
    "lr = 0.5\n",
    "new_img = imgs + lr * image_gradient\n",
    "\n",
    "new_img = np.clip(new_img, -1, 1) # Note that we are not constraining on \\delta yet"
   ]
  },
  {
   "cell_type": "code",
   "execution_count": null,
   "metadata": {
    "collapsed": false
   },
   "outputs": [],
   "source": [
    "l, p = sess.run([loss, probs], feed_dict={x_input: new_img, y_input: labels})\n",
    "\n",
    "print('Loss: %.4f' % l)\n",
    "print('Probability of correct class: %.4f, %.4f' % (p[0][labels[0]], p[1][labels[1]]))"
   ]
  },
  {
   "cell_type": "code",
   "execution_count": null,
   "metadata": {
    "collapsed": false
   },
   "outputs": [],
   "source": [
    "\n",
    "f, ax = plt.subplots(2, 2, figsize=(10,10))\n",
    "for i, (img, adv_img) in enumerate(zip(imgs, new_img)):\n",
    "    true_class = labels[i]\n",
    "    ax[i, 0].imshow(revert_processed_image(img))\n",
    "    ax[i, 1].imshow(revert_processed_image(adv_img))\n",
    "ax[0,0].set_title('Original images')\n",
    "ax[0,1].set_title('New images')\n",
    "f.tight_layout()"
   ]
  },
  {
   "cell_type": "markdown",
   "metadata": {},
   "source": [
    "## Fast gradient sign attack:\n",
    "\n",
    "$\\tilde{X} = X + \\epsilon \\text{sign}(\\nabla{J(x, y)})$\n"
   ]
  },
  {
   "cell_type": "code",
   "execution_count": null,
   "metadata": {
    "collapsed": false
   },
   "outputs": [],
   "source": [
    "epsilon = 4. / 255 * 2 # Change each pixel by a value of 4 (on the 0-255 range)\n",
    "fgsm_attack = imgs + epsilon * np.sign(image_gradient)\n",
    "fgsm_attack = np.clip(fgsm_attack, -1, 1)\n",
    "\n",
    "l, p = sess.run([loss, probs], feed_dict={x_input: fgsm_attack, y_input: labels})\n",
    "\n",
    "print('Loss: %.4f' % l)\n",
    "print('Probability of correct class: %.4f, %.4f' % (p[0][labels[0]], p[1][labels[1]]))"
   ]
  },
  {
   "cell_type": "code",
   "execution_count": null,
   "metadata": {
    "collapsed": false
   },
   "outputs": [],
   "source": [
    "# Let's take a look on the original images\n",
    "\n",
    "\n",
    "f, ax = plt.subplots(2, 2, figsize=(10,10))\n",
    "for i, (img, adv_img) in enumerate(zip(imgs, fgsm_attack)):\n",
    "    true_class = labels[i]\n",
    "    ax[i, 0].imshow(revert_processed_image(img))\n",
    "    ax[i, 1].imshow(revert_processed_image(adv_img))\n",
    "ax[0,0].set_title('Original images')\n",
    "ax[0,1].set_title('New images')\n",
    "f.tight_layout()"
   ]
  },
  {
   "cell_type": "markdown",
   "metadata": {},
   "source": [
    "## Runing the iterative attacks"
   ]
  },
  {
   "cell_type": "code",
   "execution_count": null,
   "metadata": {
    "collapsed": true
   },
   "outputs": [],
   "source": [
    "import pgd_attack # Projected SGD attack\n",
    "import step_pgd_attack # Step FGMS + projected SGD\n",
    "import box_constrained_attack # Box constrained L-BFGS attack"
   ]
  },
  {
   "cell_type": "code",
   "execution_count": null,
   "metadata": {
    "collapsed": true
   },
   "outputs": [],
   "source": [
    "# Define some parameters for the attacks:\n",
    "\n",
    "max_epsilon = 8  # Max epsilon on the original range (0 to 255)\n",
    "max_iter = 30 # Maximun number of iterations\n",
    "eps = 2.0 * max_epsilon / 255.0 # Max epsilon on the range of the processed images (-1 to 1)"
   ]
  },
  {
   "cell_type": "code",
   "execution_count": null,
   "metadata": {
    "collapsed": true
   },
   "outputs": [],
   "source": [
    "# First example: Generating non-targeted attacks using the PGD attack\n",
    "\n",
    "pgd_attacker = pgd_attack.PGD_attack(model, \n",
    "                                     batch_shape, \n",
    "                                     max_epsilon=eps, \n",
    "                                     max_iter=max_iter, \n",
    "                                     targeted=False,\n",
    "                                     initial_lr=1,\n",
    "                                     lr_decay=0.99)"
   ]
  },
  {
   "cell_type": "code",
   "execution_count": null,
   "metadata": {
    "collapsed": false
   },
   "outputs": [],
   "source": [
    "attack_img = pgd_attacker.generate(sess, imgs, pred, verbose=True)"
   ]
  },
  {
   "cell_type": "code",
   "execution_count": null,
   "metadata": {
    "collapsed": true
   },
   "outputs": [],
   "source": [
    "adv_prediction, adv_probabilities = sess.run([prediction, probs], feed_dict={x_input: attack_img, y_input: labels})"
   ]
  },
  {
   "cell_type": "code",
   "execution_count": null,
   "metadata": {
    "collapsed": false
   },
   "outputs": [],
   "source": [
    "f, ax = plt.subplots(2, 1, figsize=(10,10))\n",
    "for i, img in enumerate(attack_img):\n",
    "    ax[i].imshow(revert_processed_image(img))\n",
    "    true_class = labels[i]\n",
    "    pred_class = adv_prediction[i]\n",
    "    title = 'True label: %s (%.2f%%)' % (class_names[true_class], adv_probabilities[i, true_class] * 100)\n",
    "    title += '\\nPredicted: %s (%.2f%%)' % (class_names[pred_class], adv_probabilities[i, pred_class] * 100)\n",
    "    ax[i].set_title(title)\n",
    "f.tight_layout()"
   ]
  },
  {
   "cell_type": "code",
   "execution_count": null,
   "metadata": {
    "collapsed": true
   },
   "outputs": [],
   "source": [
    "# 2nd example: targeted attack using box \n",
    "lbfgs_attacker = box_constrained_attack.box_constrained_attack(model, \n",
    "                                                                batch_shape, \n",
    "                                                                max_epsilon=eps,\n",
    "                                                                max_iter=max_iter, \n",
    "                                                                targeted=True)\n",
    "\n",
    "attack_img = lbfgs_attacker.generate(sess, imgs, [606, 606], verbose=True) # Note: the log is written on the ipython stdout\n"
   ]
  },
  {
   "cell_type": "code",
   "execution_count": null,
   "metadata": {
    "collapsed": true
   },
   "outputs": [],
   "source": [
    "adv_prediction, adv_probabilities = sess.run([prediction, probs], feed_dict={x_input: attack_img})"
   ]
  },
  {
   "cell_type": "code",
   "execution_count": null,
   "metadata": {
    "collapsed": false
   },
   "outputs": [],
   "source": [
    "f, ax = plt.subplots(2, 1, figsize=(10,10))\n",
    "for i, img in enumerate(attack_img):\n",
    "    ax[i].imshow(revert_processed_image(img))\n",
    "    true_class = labels[i]\n",
    "    pred_class = adv_prediction[i]\n",
    "    title = 'True label: %s (%.2f%%)' % (class_names[true_class], adv_probabilities[i, true_class] * 100)\n",
    "    title += '\\nPredicted: %s (%.2f%%)' % (class_names[pred_class], adv_probabilities[i, pred_class] * 100)\n",
    "    ax[i].set_title(title)\n",
    "f.tight_layout()"
   ]
  },
  {
   "cell_type": "code",
   "execution_count": null,
   "metadata": {
    "collapsed": false
   },
   "outputs": [],
   "source": [
    "# 3rd example: targeted attack using step FGSM + PGD \n",
    "\n",
    "step_pgd_attacker = step_pgd_attack.step_pgd_attack(model, \n",
    "                                     batch_shape, \n",
    "                                     max_epsilon=eps, \n",
    "                                     max_iter=max_iter, \n",
    "                                     targeted=True,\n",
    "                                     initial_lr=1,\n",
    "                                     lr_decay=0.99,\n",
    "                                     alpha=eps/2,\n",
    "                                     step_iter=5)\n",
    "\n",
    "attack_img = step_pgd_attacker.generate(sess, imgs, [515, 515], verbose=True)\n"
   ]
  },
  {
   "cell_type": "code",
   "execution_count": null,
   "metadata": {
    "collapsed": true
   },
   "outputs": [],
   "source": [
    "adv_prediction, adv_probabilities = sess.run([prediction, probs], feed_dict={x_input: attack_img})"
   ]
  },
  {
   "cell_type": "code",
   "execution_count": null,
   "metadata": {
    "collapsed": false
   },
   "outputs": [],
   "source": [
    "adv_probabilities[0][labels[0]]"
   ]
  },
  {
   "cell_type": "code",
   "execution_count": null,
   "metadata": {
    "collapsed": false
   },
   "outputs": [],
   "source": [
    "f, ax = plt.subplots(2, 1, figsize=(10,10))\n",
    "for i, img in enumerate(attack_img):\n",
    "    ax[i].imshow(revert_processed_image(img))\n",
    "    true_class = labels[i]\n",
    "    pred_class = adv_prediction[i]\n",
    "    title = 'True label: %s (%.2f%%)' % (class_names[true_class], adv_probabilities[i, true_class] * 100)\n",
    "    title += '\\nPredicted: %s (%.2f%%)' % (class_names[pred_class], adv_probabilities[i, pred_class] * 100)\n",
    "    ax[i].set_title(title)\n",
    "f.tight_layout()"
   ]
  },
  {
   "cell_type": "code",
   "execution_count": null,
   "metadata": {
    "collapsed": true
   },
   "outputs": [],
   "source": []
  },
  {
   "cell_type": "code",
   "execution_count": null,
   "metadata": {
    "collapsed": true
   },
   "outputs": [],
   "source": []
  }
 ],
 "metadata": {
  "kernelspec": {
   "display_name": "Python 3",
   "language": "python",
   "name": "python3"
  },
  "language_info": {
   "codemirror_mode": {
    "name": "ipython",
    "version": 3
   },
   "file_extension": ".py",
   "mimetype": "text/x-python",
   "name": "python",
   "nbconvert_exporter": "python",
   "pygments_lexer": "ipython3",
   "version": "3.6.0"
  }
 },
 "nbformat": 4,
 "nbformat_minor": 2
}
